{
  "nbformat": 4,
  "nbformat_minor": 0,
  "metadata": {
    "colab": {
      "provenance": []
    },
    "kernelspec": {
      "name": "python3",
      "display_name": "Python 3"
    },
    "language_info": {
      "name": "python"
    }
  },
  "cells": [
    {
      "cell_type": "code",
      "execution_count": null,
      "metadata": {
        "id": "c4O3GFqeS_56"
      },
      "outputs": [],
      "source": [
        "import cv2\n",
        "import os\n",
        "from matplotlib import pyplot as plt"
      ]
    },
    {
      "cell_type": "code",
      "source": [
        "#set video capture\n",
        "cap = cv2.VideoCapture(os.path.join('video.mp4'))\n",
        "a , frame = cap.read()\n",
        "\n",
        "#color img convert\n",
        "plt.imshow(cv2.cvtColor(frame, cv2.COLOR_BGR2RGB))\n",
        "\n",
        "# grayscale convert\n",
        "gray = cv2.cvtColor(frame, cv2.COLOR_BGR2GRAY)\n",
        "plt.imshow(gray)\n",
        "plt.show()\n",
        "\n",
        "#relese capture\n",
        "cap.release()\n",
        "cap.destroyAllWindows()"
      ],
      "metadata": {
        "id": "NHXOon5OTPBx"
      },
      "execution_count": null,
      "outputs": []
    },
    {
      "cell_type": "code",
      "source": [
        "#WORKING WITH VIDEOS"
      ],
      "metadata": {
        "id": "jKjV0dlQTR7-"
      },
      "execution_count": null,
      "outputs": []
    },
    {
      "cell_type": "code",
      "source": [
        "# READ VIDEO\n",
        "cap = cv2.VideoCapture(os.path.join('video.mp4'))\n",
        "for frame_inx in range(int(cap.get(cv2.CAP_PROP_FRAME_COUNT))):\n",
        "    a , frame = cap.read()\n",
        "    plt.imshow(\"title\",frame)\n",
        "    if waitKey(10) & 0xFF == ord('q'):\n",
        "        break\n",
        "cap.release()\n",
        "cap.destroyAllWindows()"
      ],
      "metadata": {
        "id": "-49-Q_Y8TajM"
      },
      "execution_count": null,
      "outputs": []
    },
    {
      "cell_type": "code",
      "source": [
        "# WRITE VIDEO\n",
        "cap = cv2.VideoCapture(os.path.join(r'C:\\Users\\NEWUSER\\OneDrive\\Desktop\\video.mp4'))\n",
        "\n",
        "#properties\n",
        "height = int(cap.get(cv2.CAP_PROP_FRAME_HEIGHT))\n",
        "width = int(cap.get(cv2.CAP_PROP_FRAME_WIDTH))\n",
        "fps = cv2.CAP_PROP_FPS\n",
        "\n",
        "video_writer = cv2.VideoWriter(os.path.join(r'C:\\Users\\NEWUSER\\OneDrive\\Desktop\\output.avi'), cv2.VideoWriter_fourcc('P','I','M','1'), fps, (width, height), isColor=False)\n",
        "for video_idx in range(int(cap.get(cv2.CAP_PROP_FRAME_COUNT))):\n",
        "    a , frame = cap.read()\n",
        "    gray = cv2.cvtColor(frame, cv2.COLOR_BGR2GRAY)\n",
        "    cv2.imshow('video', gray)\n",
        "\n",
        "    video_writer.write(gray)\n",
        "\n",
        "    if cv2.waitKey(10) & 0xFF == ord('q'):\n",
        "        break\n",
        "cap.release()\n",
        "cv2.destroyAllWindows()\n",
        "video_writer.release()"
      ],
      "metadata": {
        "id": "SmaxqP4UTgq5"
      },
      "execution_count": null,
      "outputs": []
    },
    {
      "cell_type": "code",
      "source": [
        "#RESIZE IMG & VDO\n",
        "\n",
        "def rescaleFrame(frame, scale=0.25):\n",
        "    width = int(frame.shape[1] * scale)\n",
        "    height = int(frame.shape[0] * scale)\n",
        "\n",
        "    dimension = (width, height)\n",
        "    return cv2.resize(frame, dimension, interpolation=cv2.INTER_AREA)\n",
        "cap = cv2.VideoCapture(r'C:\\Users\\NEWUSER\\OneDrive\\Pictures\\fr1.JPG')\n",
        "\n",
        "while True:\n",
        "    isTrue, frame = cap.read()\n",
        "\n",
        "    resized = rescaleFrame(frame)\n",
        "\n",
        "    cv2.imshow('frame',resized)"
      ],
      "metadata": {
        "id": "m7D4Dl07S91o"
      },
      "execution_count": null,
      "outputs": []
    },
    {
      "cell_type": "code",
      "source": [
        "#DRAWING BLANK IMG\n",
        "\n",
        "blank = np.zeros((500, 500, 3), dtype='uint8')\n",
        "cap = cv2.imshow('blank', blank)\n",
        "\n",
        "#color img\n",
        "blank[:] = 0,255,0\n",
        "cap = cv2.imshow('color', blank)\n",
        "\n",
        "#drawing rectangle\n",
        "rec = cv2.rectangle(blank, (0,0),(250,250), (0,0,255), thickness=2)\n",
        "#(blank, origin, total space(height, width), color, thickness)\n",
        "#fill color\n",
        "rec = cv2.rectangle(blank, (0,0),(250,250), (0,0,255), thickness=-1) #thickness = -1\n",
        "\n",
        "#drawing circle\n",
        "cir = cv2.circle(blank,(250,250), 60, (225,0,255), thickness=3)\n",
        "\n",
        "#drawing line\n",
        "line = cv2.line(blank, (0,0),(250,250),(255,255,255), thickness=3)\n",
        "\n",
        "#drawing text\n",
        "txt = cv2.putText(blank, \"heyyyy\", (255,255), cv2.FONT_HERSHEY_DUPLEX, 1.0 , (0,255,0), 4)\n"
      ],
      "metadata": {
        "id": "uC0kzFKH1Jfw"
      },
      "execution_count": null,
      "outputs": []
    },
    {
      "cell_type": "code",
      "source": [
        "#IMG EDIT\n",
        "\n",
        "blur = cv2.GaussianBlur(img, (9,9), cv2.BORDER_DEFAULT)\n",
        "edge = cv2.Canny(img, 123, 100 ) #threshold values\n",
        "dilate = cv2.dilate(img, (2,2), iterations=3)\n",
        "frading = cv2.erode(img, (6,6), iterations=3)\n",
        "resize = cv2.resize(img, (400,400), interpolation=cv2.INTER_CUBIC)\n",
        "croped = img[20:250, 20:240]\n",
        "flip = cv2.flip(img, -1)\n"
      ],
      "metadata": {
        "id": "hfgdk3RYEkkt"
      },
      "execution_count": null,
      "outputs": []
    },
    {
      "cell_type": "code",
      "source": [
        "#moving img position\n",
        "\n",
        "def translate(img, x, y):\n",
        "    transMat = np.float32([[1,0,x],[0,1,y]])\n",
        "    dimensions = (img.shape[1], img.shape[0])\n",
        "    return cv2.warpAffine(img, transMat, dimensions)\n",
        "\n",
        "translated = translate(img, -100, 300)\n",
        "cv2.imshow('img',translated)\n",
        "\n",
        "# -x --> left\n",
        "# -y --> up\n",
        "# x --> right\n",
        "# y --> down\n"
      ],
      "metadata": {
        "id": "zyVY5olzKRxI"
      },
      "execution_count": null,
      "outputs": []
    },
    {
      "cell_type": "code",
      "source": [
        "#rotate img\n",
        "\n",
        "def rotate(img, angle, rotPoint=None):\n",
        "    (height, width) = img.shape[:2]\n",
        "\n",
        "    if rotPoint is None:\n",
        "        rotPoint = (width//2, height//2)\n",
        "    rotMat = cv2.getRotationMatrix2D(rotPoint, angle, 1.0)\n",
        "    dimensions = (width, height)\n",
        "\n",
        "    return cv2.warpAffine(img, rotMat, dimensions)\n",
        "\n",
        "rotated = rotate(img, -50)\n",
        "cv2.imshow('img',rotated)"
      ],
      "metadata": {
        "id": "cymAl-bjV4lk"
      },
      "execution_count": null,
      "outputs": []
    },
    {
      "cell_type": "code",
      "source": [
        "#contour find\n",
        "\n",
        "canny = cv2.Canny(img, 125, 185)\n",
        "#only for edge images\n",
        "contours, hierarchies = cv2.findContours(canny, cv2.RETR_LIST, cv2.CHAIN_APPROX_NONE)\n",
        "print(f'{len(contours)} found')"
      ],
      "metadata": {
        "id": "nwTCRy69Xcyy"
      },
      "execution_count": null,
      "outputs": []
    },
    {
      "cell_type": "code",
      "source": [
        "#threshold img find\n",
        "\n",
        "gray = cv2.cvtColor(img, cv2.COLOR_BGR2GRAY)\n",
        "#only for grayscale\n",
        "ret, thresh = cv2.threshold(gray, 125, 185, cv2.THRESH_BINARY)\n",
        "cv2.imshow('thres', thresh)\n",
        "contours, hierarchies = cv2.findContours(thresh, cv2.RETR_LIST, cv2.CHAIN_APPROX_SIMPLE)"
      ],
      "metadata": {
        "id": "hK1ejdMrbfdQ"
      },
      "execution_count": null,
      "outputs": []
    },
    {
      "cell_type": "code",
      "source": [
        "#draw contours on blank (grayscale image )\n",
        "\n",
        "img = cv2.imread(r'fr5.JPG')\n",
        "blank = np.zeros(img.shape[:3], dtype='uint8')\n",
        "gray = cv2.cvtColor(img, cv2.COLOR_BGR2GRAY)\n",
        "ret, thresh = cv2.threshold(gray, 125, 185, cv2.THRESH_BINARY)\n",
        "contours, hierarchies = cv2.findContours(thresh, cv2.RETR_LIST, cv2.CHAIN_APPROX_SIMPLE)\n",
        "\n",
        "cont = cv2.drawContours(blank, contours, -1, (0,0,255), 2 )\n",
        "\n",
        "cv2.imshow('img', cont)"
      ],
      "metadata": {
        "id": "8wST8ilXt9EC"
      },
      "execution_count": null,
      "outputs": []
    },
    {
      "cell_type": "code",
      "source": [
        "#draw contours on blank (Canny edge image )----> correct way\n",
        "\n",
        "img = cv2.imread(r'C:\\Users\\NEWUSER\\OneDrive\\Pictures\\fr5.JPG')\n",
        "blank = np.zeros(img.shape[:3], dtype='uint8')\n",
        "\n",
        "cunny = cv2.Canny(img, 125, 175)\n",
        "contours, hierarchies = cv2.findContours(cunny, cv2.RETR_LIST, cv2.CHAIN_APPROX_SIMPLE)\n",
        "\n",
        "cont = cv2.drawContours(blank, contours, -1, (0,0,255), 2 )\n",
        "\n",
        "cv2.imshow('img', cont)\n"
      ],
      "metadata": {
        "id": "gKjBubL1y2g1"
      },
      "execution_count": null,
      "outputs": []
    },
    {
      "cell_type": "code",
      "source": [
        "# COLORS\n",
        "gray = cv2.cvtColor(img, cv2.COLOR_BGR2GRAY)\n",
        "hsv = cv2.cvtColor(img, cv2.COLOR_BGR2HSV)\n",
        "lab = cv2.cvtColor(img, cv2.COLOR_BGR2Lab)\n",
        "\n",
        "#split color bgr\n",
        "b,g,r = cv2.split(img)\n",
        "\n",
        "cv2.imshow('b',b)\n",
        "cv2.imshow('g',g)\n",
        "cv2.imshow('r',r)\n",
        "merge = cv2.merge([b,g,r])\n",
        "cv2.imshow('img', merge)\n"
      ],
      "metadata": {
        "id": "PPFgfiYFzoU7"
      },
      "execution_count": null,
      "outputs": []
    },
    {
      "cell_type": "code",
      "source": [
        "# BLUR\n",
        "average = cv2.blur(img, (7,7))\n",
        "\n",
        "gauss = cv2.GaussianBlur(img, (7,7), 0) # 0 = stdDev in x dirction\n",
        "\n",
        "median= cv2.medianBlur(img, 3)\n",
        "\n",
        "biloteral = cv2.bilateralFilter(img, 5, 15, 15)"
      ],
      "metadata": {
        "id": "qnqi2KhMugg9"
      },
      "execution_count": null,
      "outputs": []
    },
    {
      "cell_type": "code",
      "source": [
        "# BITWISE OPERATOR\n",
        "\n",
        "and_ = cv2.bitwise_and(circle,rectangle)\n",
        "or_ = cv2.bitwise_or(rectangle,circle)\n",
        "not_ = cv2.bitwise_not(rectangle,circle)\n",
        "xor_ = cv2.bitwise_xor(rectangle,circle)"
      ],
      "metadata": {
        "id": "EeA9DXJzw_jq"
      },
      "execution_count": null,
      "outputs": []
    },
    {
      "cell_type": "code",
      "source": [
        " # MASK IMAGES\n",
        "img = cv2.imread(r'C:\\Users\\NEWUSER\\OneDrive\\Pictures\\fr1.JPG')\n",
        "\n",
        "blank = np.zeros(img.shape[:2], dtype='uint8')\n",
        "\n",
        "mask = cv2.circle(blank, (img.shape[1]//2, img.shape[0]//2), 100, 255, -1)\n",
        "\n",
        "masked = cv2.bitwise_and(img, img, mask =mask)"
      ],
      "metadata": {
        "id": "oXWMd0HE0edh"
      },
      "execution_count": null,
      "outputs": []
    },
    {
      "cell_type": "code",
      "source": [
        "# CALCULATING WITH HISTOGRAM\n",
        "#gray\n",
        "gray = cv2.cvtColor(img, cv2.COLOR_RGB2GRAY)\n",
        "\n",
        "cv2.imshow('img', gray)\n",
        "\n",
        "gray_hist = cv2.calcHist([gray], [0], None, [256],[0,256])\n",
        "\n",
        "plt.figure()\n",
        "plt.title('grayscale hist')\n",
        "plt.xlabel('Bins')\n",
        "plt.ylabel('num of pixels')\n",
        "plt.plot(gray_hist)\n",
        "plt.xlim([0,256])\n",
        "plt.show()\n",
        "\n",
        "#color bgr\n",
        "colors = ('b','g','r')\n",
        "for i,col in enumerate(colors):\n",
        "    hist = cv2.calcHist([img], [i], None, [256], [0,256])\n",
        "    plt.plot(hist, color=col)\n",
        "    plt.xlim([0,256])\n",
        "plt.show()"
      ],
      "metadata": {
        "id": "vLqyCo7xY-lD"
      },
      "execution_count": null,
      "outputs": []
    },
    {
      "cell_type": "code",
      "source": [
        "# THRESHOLD\n",
        "gray = cv2.cvtColor(img, cv2.COLOR_BGR2GRAY)\n",
        "#simple\n",
        "threshold, thresh = cv2.threshold(gray, 150, 255, cv2.THRESH_BINARY)\n",
        "#inverse\n",
        "threshold, thresh_inv = cv2.threshold(gray, 150, 255, cv2.THRESH_BINARY_INV)\n",
        "#adaptive\n",
        "adaptive_thresh = cv2.adaptiveThreshold(gray, 255, cv2.ADAPTIVE_THRESH_MEAN_C, cv2.THRESH_BINARY, 11, -1)\n",
        "cv2.imshow('thresh',thresh)"
      ],
      "metadata": {
        "id": "QkpedHcla7Nt"
      },
      "execution_count": null,
      "outputs": []
    },
    {
      "cell_type": "code",
      "source": [
        " # EDGE DETECTION\n",
        "\n",
        "gray = cv2.cvtColor(img, cv2.COLOR_BGR2GRAY)\n",
        "\n",
        "lap = cv2.Laplacian(gray, cv2.CV_64F)\n",
        "lap = np.uint8(np.absolute(lap))\n",
        "\n",
        "sablex = cv2.Sobel(gray, cv2.CV_64F, 1, 0)\n",
        "sobely = cv2.Sobel(gray, cv2.CV_64F, 0, 1)\n",
        "combine = cv2.bitwise_or(sablex,sobely)\n",
        "\n",
        "#ALSO cANNY USED to find abs edges\n",
        "\n",
        "cv2.imshow('img X', combine)\n",
        "cv2.imshow('Y', sobely)"
      ],
      "metadata": {
        "id": "PCoqnTF0gFe8"
      },
      "execution_count": null,
      "outputs": []
    },
    {
      "cell_type": "code",
      "source": [],
      "metadata": {
        "id": "6DI5rcomzEE8"
      },
      "execution_count": null,
      "outputs": []
    }
  ]
}
