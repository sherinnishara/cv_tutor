{
  "metadata": {
    "kernelspec": {
      "name": "python",
      "display_name": "Python (Pyodide)",
      "language": "python"
    },
    "language_info": {
      "codemirror_mode": {
        "name": "python",
        "version": 3
      },
      "file_extension": ".py",
      "mimetype": "text/x-python",
      "name": "python",
      "nbconvert_exporter": "python",
      "pygments_lexer": "ipython3",
      "version": "3.8"
    }
  },
  "nbformat_minor": 4,
  "nbformat": 4,
  "cells": [
    {
      "cell_type": "code",
      "source": "import cv2\nimport os\nfrom matplotlib import pyplot as plt",
      "metadata": {
        "trusted": true
      },
      "outputs": [],
      "execution_count": 1
    },
    {
      "cell_type": "code",
      "source": "#set video capture\ncap = cv2.VideoCapture(os.path.join('video.mp4'))\na , frame = cap.read()\n\n#color img convert\nplt.imshow(cv2.cvtColor(frame, cv2.COLOR_BGR2RGB))\n\n# grayscale convert\ngray = cv2.cvtColor(frame, cv2.\n\nplt.show()\n\n#relese capture\ncap.release()\ncap.destroyAllWindows()",
      "metadata": {
        "trusted": true
      },
      "outputs": [],
      "execution_count": null
    },
    {
      "cell_type": "code",
      "source": "#video capture properties\ncap.get(cv2.CAP_PROP_FRAME_COUNT)\n#HEIGHT WIDTH FPS(Frame per sec) etc...\n#total vdo time = count/fps",
      "metadata": {
        "trusted": true
      },
      "outputs": [],
      "execution_count": null
    },
    {
      "cell_type": "code",
      "source": "#WORKING WITH VIDEOS",
      "metadata": {
        "trusted": true
      },
      "outputs": [],
      "execution_count": null
    },
    {
      "cell_type": "code",
      "source": "# READ VIDEO\ncap = cv2.VideoCapture(os.path.join('data','video','video.mp4'))\nfor frame_inx in range(int(cap.get(cv2.CAP_PROP_FRAME_COUNT))):\n    a , frame = cap.read()\n    plt.imshow(\"title\",frame)\n    if waitKey(10) & 0xFF == ord('q'):\n        break\ncap.release()\ncap.destroyAllWindows()",
      "metadata": {
        "trusted": true
      },
      "outputs": [],
      "execution_count": null
    },
    {
      "cell_type": "code",
      "source": "",
      "metadata": {
        "trusted": true
      },
      "outputs": [],
      "execution_count": null
    }
  ]
}